{
 "cells": [
  {
   "cell_type": "markdown",
   "id": "d31ee4a9",
   "metadata": {},
   "source": [
    "# write a python program to reverse a string"
   ]
  },
  {
   "cell_type": "code",
   "execution_count": 11,
   "id": "71310f4c",
   "metadata": {},
   "outputs": [
    {
     "name": "stdout",
     "output_type": "stream",
     "text": [
      "****************starting of the program for reverse of  a string****************\n",
      "Enter the string : 1234abcd\n",
      "The reversed string is :  dcba4321\n",
      "************************************THE END*************************************\n"
     ]
    }
   ],
   "source": [
    "print(\"starting of the program for reverse of  a string\".center(80,\"*\"))\n",
    "string = input('Enter the string : ')\n",
    "words = string.split()\n",
    "rev_string = []\n",
    "for i in words:\n",
    "    rev_string.append(i[::-1])\n",
    "    out = ' '.join(rev_string)\n",
    "print(\"The reversed string is : \",out)\n",
    "print('THE END'.center(80,'*'))\n"
   ]
  },
  {
   "cell_type": "code",
   "execution_count": null,
   "id": "08ba79ed",
   "metadata": {},
   "outputs": [],
   "source": []
  }
 ],
 "metadata": {
  "kernelspec": {
   "display_name": "Python 3 (ipykernel)",
   "language": "python",
   "name": "python3"
  },
  "language_info": {
   "codemirror_mode": {
    "name": "ipython",
    "version": 3
   },
   "file_extension": ".py",
   "mimetype": "text/x-python",
   "name": "python",
   "nbconvert_exporter": "python",
   "pygments_lexer": "ipython3",
   "version": "3.9.7"
  }
 },
 "nbformat": 4,
 "nbformat_minor": 5
}
